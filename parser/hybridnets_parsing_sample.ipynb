{
 "cells": [
  {
   "cell_type": "markdown",
   "id": "14d83225",
   "metadata": {},
   "source": [
    "### Load libraries"
   ]
  },
  {
   "cell_type": "code",
   "execution_count": null,
   "id": "ae2aa161",
   "metadata": {},
   "outputs": [],
   "source": [
    "import cv2, os, shutil\n",
    "from tqdm import tqdm\n",
    "from glob import glob\n",
    "from omegaconf import DictConfig, OmegaConf\n",
    "import random\n",
    "import numpy as np\n",
    "import threading\n",
    "\n",
    "\n",
    "dataset_source = \"/home/ubuntu/workspace/ywshin/construct/train_folder/hybridnets_dataset\"\n",
    "new_img_dir = os.path.join(dataset_source, \"Images\")\n",
    "new_label_dir = os.path.join(dataset_source, \"Labels\")\n",
    "seg_dir = os.path.join(dataset_source, \"Seg\")\n",
    "parsings = [new_img_dir, new_label_dir, seg_dir]\n",
    "\n",
    "for p in parsings:\n",
    "    if os.path.isdir(p):\n",
    "        shutil.rmtree(p)\n",
    "        os.mkdir(p)\n",
    "    else:\n",
    "        os.mkdir(p)\n",
    "\n",
    "root = \"/mnt/vitasoft/2022_Patrasche/Images_label_processing/\"\n",
    "tasks = next(os.walk(root))[1]\n",
    "tasks = [t for t in tasks if t != \"주행가능구역\"]\n",
    "\n",
    "total_img_list = []"
   ]
  },
  {
   "cell_type": "markdown",
   "id": "76bc4d72",
   "metadata": {},
   "source": [
    "### Define core function"
   ]
  },
  {
   "cell_type": "code",
   "execution_count": null,
   "id": "b86f0690",
   "metadata": {},
   "outputs": [],
   "source": [
    "def create_dataset(transfer_img_list):\n",
    "    for img_path in tqdm(transfer_img_list):\n",
    "        json_path = img_path.replace(\".png\", \".json\")\n",
    "        try:\n",
    "            with open(json_path, 'r') as f:\n",
    "                data = json.load(f)\n",
    "        except:\n",
    "            continue\n",
    "\n",
    "        !cp $img_path $img_subdir        \n",
    "        !cp $json_path $label_subdir\n",
    "\n",
    "        seg = blank.copy()\n",
    "        seg_path = os.path.join(seg_dir, split_key, os.path.basename(json_path).replace(\".json\", \".png\"))\n",
    "\n",
    "        obj_list = data[\"shapes\"]\n",
    "        points = []\n",
    "        for obj in obj_list:\n",
    "            if obj[\"label\"] == \"road\":\n",
    "                points = obj[\"points\"]\n",
    "                break\n",
    "        if len(points):\n",
    "            seg = cv2.fillPoly(seg, [np.array(points, np.int32)], (255,255,255))\n",
    "        cv2.imwrite(seg_path, seg)"
   ]
  },
  {
   "cell_type": "markdown",
   "id": "f99de5bf",
   "metadata": {},
   "source": [
    "### Collect labeled data"
   ]
  },
  {
   "cell_type": "code",
   "execution_count": null,
   "id": "57d3714b",
   "metadata": {},
   "outputs": [],
   "source": [
    "for task in tasks:\n",
    "    source = os.path.join(root, task)\n",
    "# source = \"/mnt/vitasoft/2022_Patrasche/Images_label_processing/보행안내자/\"\n",
    "    dir_list = next(os.walk(source))[1]\n",
    "    dir_list.sort()\n",
    "    \n",
    "    for f_i, d in enumerate(dir_list):\n",
    "        label_txt_path = os.path.join(source, d, \"label.txt\")\n",
    "\n",
    "        if not os.path.isfile(label_txt_path):\n",
    "            continue\n",
    "        with open(label_txt_path) as f:\n",
    "            label_count = int(f.readlines()[0])\n",
    "\n",
    "\n",
    "        img_dir = os.path.join(source, d)\n",
    "\n",
    "        img_list = glob(os.path.join(img_dir, \"*.png\"))\n",
    "        img_list = sorted(img_list, key = lambda x: x.split(\"-\")[-2])[:label_count-(f_i*500)]\n",
    "        total_img_list += img_list\n",
    "    #     print(len(total_img_list))\n",
    "    \n",
    "random.shuffle(total_img_list)\n",
    "split_list = [\"val\", \"train\"]\n",
    "# split_list = [\"train\"]\n",
    "split_amount = int(len(total_img_list)*0.03)\n",
    "\n",
    "width, height = 1920, 1088\n",
    "blank = np.zeros((height, width, 3), dtype=np.uint8)\n",
    "\n",
    "print(len(total_img_list))"
   ]
  },
  {
   "cell_type": "markdown",
   "id": "78321990",
   "metadata": {},
   "source": [
    "### Parsing"
   ]
  },
  {
   "cell_type": "code",
   "execution_count": null,
   "id": "da44c78b",
   "metadata": {},
   "outputs": [],
   "source": [
    "for split_key in split_list:\n",
    "    img_subdir = os.path.join(new_img_dir, split_key)\n",
    "    label_subdir = os.path.join(new_label_dir, split_key)\n",
    "    seg_subdir = os.path.join(seg_dir, split_key)\n",
    "\n",
    "    subdirs = [img_subdir, label_subdir, seg_subdir]\n",
    "    for sdir in subdirs:\n",
    "        if os.path.isdir(sdir):\n",
    "            shutil.rmtree(sdir)\n",
    "            os.mkdir(sdir)\n",
    "        else:\n",
    "            os.mkdir(sdir)\n",
    "\n",
    "    if split_key == \"train\":\n",
    "        transfer_img_list = total_img_list[:-split_amount]\n",
    "        \n",
    "        thread_count = 10\n",
    "        file_unit = len(transfer_img_list)//thread_count\n",
    "\n",
    "        # file_unit\n",
    "        for i in range(thread_count-1):\n",
    "            thread = threading.Thread(target=create_dataset, args = (transfer_img_list[(i)*file_unit:(i+1)*file_unit],))\n",
    "            thread.start()\n",
    "        thread = threading.Thread(target=create_dataset, args = (transfer_img_list[(i+1)*file_unit:],))\n",
    "        thread.start()\n",
    "        \n",
    "    elif split_key == \"val\":\n",
    "        transfer_img_list = total_img_list[-split_amount:]\n",
    "        \n",
    "        create_dataset(transfer_img_list)"
   ]
  }
 ],
 "metadata": {
  "kernelspec": {
   "display_name": "Python 3",
   "language": "python",
   "name": "python3"
  },
  "language_info": {
   "codemirror_mode": {
    "name": "ipython",
    "version": 3
   },
   "file_extension": ".py",
   "mimetype": "text/x-python",
   "name": "python",
   "nbconvert_exporter": "python",
   "pygments_lexer": "ipython3",
   "version": "3.8.5"
  }
 },
 "nbformat": 4,
 "nbformat_minor": 5
}
